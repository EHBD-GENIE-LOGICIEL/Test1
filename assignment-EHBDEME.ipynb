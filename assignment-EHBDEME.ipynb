{
 "cells": [
  {
   "cell_type": "code",
   "execution_count": null,
   "id": "353b0fe4",
   "metadata": {},
   "outputs": [],
   "source": [
    "def pgcd (x: Int, y: Int) :Int={\n",
    "    if (x < y)\n",
    "        min=x\n",
    "    else\n",
    "        min=y\n",
    "    for(i <- 1 to min+1)\n",
    "        if (x % i==0 and y % i==0)\n",
    "            div=i  \n",
    "    return print(f\" {div} est le pgcd des deux entiers\")\n",
    "}"
   ]
  },
  {
   "cell_type": "code",
   "execution_count": null,
   "id": "fdfb52c4",
   "metadata": {},
   "outputs": [],
   "source": [
    "def fibonacci(n: Int): Int={\n",
    "    upp=0\n",
    "    up=1\n",
    "    for(i <- 1 to n)\n",
    "        u=upp+up\n",
    "        print(f\"la somme des {i+1} premieres termes de la suite de fibonacci est: {upp}+{up}={u}\")\n",
    "        upp=up\n",
    "        up=u\n",
    "    return n\n",
    "}"
   ]
  }
 ],
 "metadata": {
  "kernelspec": {
   "display_name": "Scala",
   "language": "scala",
   "name": "scala"
  }
 },
 "nbformat": 4,
 "nbformat_minor": 5
}
